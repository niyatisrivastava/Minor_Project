{
  "nbformat": 4,
  "nbformat_minor": 0,
  "metadata": {
    "colab": {
      "name": "Mini Project.ipynb",
      "provenance": [],
      "collapsed_sections": []
    },
    "kernelspec": {
      "name": "python3",
      "display_name": "Python 3"
    }
  },
  "cells": [
    {
      "cell_type": "code",
      "metadata": {
        "colab": {
          "base_uri": "https://localhost:8080/"
        },
        "id": "YLMKEOSjYt02",
        "outputId": "4b4f3acf-63f7-49c9-ad07-cd4686adb07d"
      },
      "source": [
        "!pip install bing-image-downloader"
      ],
      "execution_count": 1,
      "outputs": [
        {
          "output_type": "stream",
          "text": [
            "Collecting bing-image-downloader\n",
            "  Downloading https://files.pythonhosted.org/packages/0d/bf/537a61030b84ae4cd5022d5c7b014fd9bc3ce7c02358919153a6658a61d3/bing_image_downloader-1.0.4-py3-none-any.whl\n",
            "Installing collected packages: bing-image-downloader\n",
            "Successfully installed bing-image-downloader-1.0.4\n"
          ],
          "name": "stdout"
        }
      ]
    },
    {
      "cell_type": "code",
      "metadata": {
        "colab": {
          "base_uri": "https://localhost:8080/"
        },
        "id": "P6muQ3_bEHEe",
        "outputId": "e5a0ab45-d128-4655-88e1-e474deed5eb0"
      },
      "source": [
        "!pip install ipython-autotime\r\n",
        "%load_ext autotime"
      ],
      "execution_count": 2,
      "outputs": [
        {
          "output_type": "stream",
          "text": [
            "Collecting ipython-autotime\n",
            "  Downloading https://files.pythonhosted.org/packages/b4/c9/b413a24f759641bc27ef98c144b590023c8038dfb8a3f09e713e9dff12c1/ipython_autotime-0.3.1-py2.py3-none-any.whl\n",
            "Requirement already satisfied: ipython in /usr/local/lib/python3.6/dist-packages (from ipython-autotime) (5.5.0)\n",
            "Requirement already satisfied: decorator in /usr/local/lib/python3.6/dist-packages (from ipython->ipython-autotime) (4.4.2)\n",
            "Requirement already satisfied: pickleshare in /usr/local/lib/python3.6/dist-packages (from ipython->ipython-autotime) (0.7.5)\n",
            "Requirement already satisfied: pygments in /usr/local/lib/python3.6/dist-packages (from ipython->ipython-autotime) (2.6.1)\n",
            "Requirement already satisfied: traitlets>=4.2 in /usr/local/lib/python3.6/dist-packages (from ipython->ipython-autotime) (4.3.3)\n",
            "Requirement already satisfied: simplegeneric>0.8 in /usr/local/lib/python3.6/dist-packages (from ipython->ipython-autotime) (0.8.1)\n",
            "Requirement already satisfied: setuptools>=18.5 in /usr/local/lib/python3.6/dist-packages (from ipython->ipython-autotime) (53.0.0)\n",
            "Requirement already satisfied: pexpect; sys_platform != \"win32\" in /usr/local/lib/python3.6/dist-packages (from ipython->ipython-autotime) (4.8.0)\n",
            "Requirement already satisfied: prompt-toolkit<2.0.0,>=1.0.4 in /usr/local/lib/python3.6/dist-packages (from ipython->ipython-autotime) (1.0.18)\n",
            "Requirement already satisfied: six in /usr/local/lib/python3.6/dist-packages (from traitlets>=4.2->ipython->ipython-autotime) (1.15.0)\n",
            "Requirement already satisfied: ipython-genutils in /usr/local/lib/python3.6/dist-packages (from traitlets>=4.2->ipython->ipython-autotime) (0.2.0)\n",
            "Requirement already satisfied: ptyprocess>=0.5 in /usr/local/lib/python3.6/dist-packages (from pexpect; sys_platform != \"win32\"->ipython->ipython-autotime) (0.7.0)\n",
            "Requirement already satisfied: wcwidth in /usr/local/lib/python3.6/dist-packages (from prompt-toolkit<2.0.0,>=1.0.4->ipython->ipython-autotime) (0.2.5)\n",
            "Installing collected packages: ipython-autotime\n",
            "Successfully installed ipython-autotime-0.3.1\n",
            "time: 200 µs (started: 2021-02-22 16:39:57 +00:00)\n"
          ],
          "name": "stdout"
        }
      ]
    },
    {
      "cell_type": "code",
      "metadata": {
        "colab": {
          "base_uri": "https://localhost:8080/"
        },
        "id": "-DTHrEUzELOK",
        "outputId": "011a6046-b867-4b90-ca2a-359b350b72d4"
      },
      "source": [
        "!mkdir images"
      ],
      "execution_count": 3,
      "outputs": [
        {
          "output_type": "stream",
          "text": [
            "time: 110 ms (started: 2021-02-22 16:40:27 +00:00)\n"
          ],
          "name": "stdout"
        }
      ]
    },
    {
      "cell_type": "code",
      "metadata": {
        "colab": {
          "base_uri": "https://localhost:8080/"
        },
        "id": "aiQ2Q5B3ENAu",
        "outputId": "50edde51-5596-491d-d622-4e19523dd0fa"
      },
      "source": [
        "from bing_image_downloader import downloader\r\n",
        "downloader.download(\"fruits\", limit=30,output_dir='images', adult_filter_off = True)"
      ],
      "execution_count": 4,
      "outputs": [
        {
          "output_type": "stream",
          "text": [
            "\n",
            "\n",
            "[!!]Indexing page: 1\n",
            "\n",
            "[%] Indexed 30 Images on Page 1.\n",
            "\n",
            "===============================================\n",
            "\n",
            "[%] Downloading Image #1 from https://media1.fdncms.com/inlander/imager/u/original/4871288/fruits_veggies.jpg_.jpg\n",
            "[%] File Downloaded !\n",
            "\n",
            "[%] Downloading Image #2 from https://blog.ediblearrangements.com/wp-content/uploads/2019/08/fruits-in-season.jpg\n",
            "[%] File Downloaded !\n",
            "\n",
            "[%] Downloading Image #3 from http://www.barbiemartini.com/wp-content/uploads/2014/07/Top-Fruits-Vegetables.jpg\n",
            "[%] File Downloaded !\n",
            "\n",
            "[%] Downloading Image #4 from http://attemptnwin.com/wp-content/uploads/2014/10/fruits2.jpg\n",
            "[%] File Downloaded !\n",
            "\n",
            "[%] Downloading Image #5 from http://www.fruitsinfo.com/fruit-facts/wp-content/uploads/2010/08/fruit.jpg\n",
            "[Error]Invalid image, not saving http://www.fruitsinfo.com/fruit-facts/wp-content/uploads/2010/08/fruit.jpg\n",
            "\n",
            "[!] Issue getting: http://www.fruitsinfo.com/fruit-facts/wp-content/uploads/2010/08/fruit.jpg\n",
            "[!] Error:: No active exception to reraise\n",
            "[%] Downloading Image #5 from https://policygenius-blog.imgix.net/2018/05/fruits-vegetables.jpg\n",
            "[%] File Downloaded !\n",
            "\n",
            "[%] Downloading Image #6 from https://tgp.com.ph/blog/wp-content/uploads/2015/11/fruits-medicine-for-diabetes.png\n",
            "[%] File Downloaded !\n",
            "\n",
            "[%] Downloading Image #7 from https://www.rd.com/wp-content/uploads/2016/09/01-deficient-things-happen-body-fruits-vegetables-AbbieImages.jpg\n",
            "[%] File Downloaded !\n",
            "\n",
            "[%] Downloading Image #8 from https://financialtribune.com/sites/default/files/field/image/17january/12_fruits.jpg\n",
            "[%] File Downloaded !\n",
            "\n",
            "[%] Downloading Image #9 from https://api.time.com/wp-content/uploads/2014/07/fruits-and-vegetables.jpg\n",
            "[%] File Downloaded !\n",
            "\n",
            "[%] Downloading Image #10 from http://attemptnwin.com/wp-content/uploads/2014/10/fruits3.png\n",
            "[%] File Downloaded !\n",
            "\n",
            "[%] Downloading Image #11 from https://www.readersdigest.ca/wp-content/uploads/2016/11/fruits-veggies-happiness-health-report.jpg\n",
            "[%] File Downloaded !\n",
            "\n",
            "[%] Downloading Image #12 from https://gundrymd.com/wp-content/uploads/2017/10/fruits-high-in-sugar.jpg\n",
            "[%] File Downloaded !\n",
            "\n",
            "[%] Downloading Image #13 from https://images.healthierliving4you.com/wp-content/uploads/2012/08/alkaline-fruits.jpg\n",
            "[%] File Downloaded !\n",
            "\n",
            "[%] Downloading Image #14 from http://valwebs.files.wordpress.com/2012/09/fruits2.jpg\n",
            "[%] File Downloaded !\n",
            "\n",
            "[%] Downloading Image #15 from http://valwebs.files.wordpress.com/2012/09/exotic_tropical_fruits1.jpg\n",
            "[%] File Downloaded !\n",
            "\n",
            "[%] Downloading Image #16 from https://east-africa.hivos.org/assets/2018/07/diet-rich-in-fruits-and-vegetables.jpg\n",
            "[%] File Downloaded !\n",
            "\n",
            "[%] Downloading Image #17 from https://media.istockphoto.com/photos/healthy-fresh-rainbow-colored-fruits-and-vegetables-background-picture-id1208790371\n",
            "[%] File Downloaded !\n",
            "\n",
            "[%] Downloading Image #18 from https://www.top10homeremedies.com/wp-content/uploads/2015/08/top-10-fruits-with-highest-water-content.jpg\n",
            "[%] File Downloaded !\n",
            "\n",
            "[%] Downloading Image #19 from https://passnownow.com/wp-content/uploads/2016/01/fruits.jpg\n",
            "[%] File Downloaded !\n",
            "\n",
            "[%] Downloading Image #20 from http://media.dietplanstolose.com/wp-content/uploads/2013/09/fruits-and-vegetables.jpg\n",
            "[%] File Downloaded !\n",
            "\n",
            "[%] Downloading Image #21 from https://sukitospoon.files.wordpress.com/2012/01/round-fruits.jpg\n",
            "[%] File Downloaded !\n",
            "\n",
            "[%] Downloading Image #22 from http://4.bp.blogspot.com/-iCWLv2hDiXM/UM6yuDEIsQI/AAAAAAAAAHk/v2IFZwwqxUE/s1600/Fruits+and+Vegetables+(1).jpg\n",
            "[%] File Downloaded !\n",
            "\n",
            "[%] Downloading Image #23 from https://realfood.tesco.com/media/images/Exotic-fruits-LGH-40bfa9b3-0ba4-479b-97ca-b291d60bd28a-0-1400x919.jpg\n",
            "[%] File Downloaded !\n",
            "\n",
            "[%] Downloading Image #24 from https://ww1.prweb.com/prfiles/2016/09/16/13692959/shutterstock_372770197.jpg\n",
            "[%] File Downloaded !\n",
            "\n",
            "[%] Downloading Image #25 from https://get.wallhere.com/photo/fruits-different-many-still-life-1042220.jpg\n",
            "[Error]Invalid image, not saving https://get.wallhere.com/photo/fruits-different-many-still-life-1042220.jpg\n",
            "\n",
            "[!] Issue getting: https://get.wallhere.com/photo/fruits-different-many-still-life-1042220.jpg\n",
            "[!] Error:: No active exception to reraise\n",
            "[%] Downloading Image #25 from https://buzzghana.com/wp-content/uploads/2015/08/fruits-veggies.jpg\n",
            "[%] File Downloaded !\n",
            "\n",
            "[%] Downloading Image #26 from https://www.mythic-resort.com/wp-content/uploads/2019/11/fruits-ile-maurice-1400x933.jpg\n",
            "[%] File Downloaded !\n",
            "\n",
            "[%] Downloading Image #27 from http://4.bp.blogspot.com/-OQsyv2yj9h4/TdRn-EAZ7tI/AAAAAAAAACg/na6ELEPp4Q4/s1600/fruits.jpg\n",
            "[%] File Downloaded !\n",
            "\n",
            "[%] Downloading Image #28 from https://www.washington.edu/wholeu/wp-content/uploads/2015/09/Seasonal-fruits.png\n",
            "[%] File Downloaded !\n",
            "\n",
            "\n",
            "\n",
            "[!!]Indexing page: 2\n",
            "\n",
            "[%] Indexed 35 Images on Page 2.\n",
            "\n",
            "===============================================\n",
            "\n",
            "[%] Downloading Image #29 from http://www.fruitsinfo.com/fruit-facts/wp-content/uploads/2010/08/fruit.jpg\n",
            "[Error]Invalid image, not saving http://www.fruitsinfo.com/fruit-facts/wp-content/uploads/2010/08/fruit.jpg\n",
            "\n",
            "[!] Issue getting: http://www.fruitsinfo.com/fruit-facts/wp-content/uploads/2010/08/fruit.jpg\n",
            "[!] Error:: No active exception to reraise\n",
            "[%] Downloading Image #29 from http://www.barbiemartini.com/wp-content/uploads/2014/07/Top-Fruits-Vegetables.jpg\n",
            "[%] File Downloaded !\n",
            "\n",
            "[%] Downloading Image #30 from http://attemptnwin.com/wp-content/uploads/2014/10/fruits3.png\n",
            "[%] File Downloaded !\n",
            "\n",
            "\n",
            "\n",
            "[%] Done. Downloaded 30 images.\n",
            "\n",
            "===============================================\n",
            "\n",
            "time: 20.2 s (started: 2021-02-22 16:40:35 +00:00)\n"
          ],
          "name": "stdout"
        }
      ]
    },
    {
      "cell_type": "code",
      "metadata": {
        "colab": {
          "base_uri": "https://localhost:8080/"
        },
        "id": "UZBTykPqEmjB",
        "outputId": "9328f4f2-17b8-4e78-e9a8-fda27eb2270b"
      },
      "source": [
        "from bing_image_downloader import downloader\r\n",
        "downloader.download(\"chair\", limit=30,output_dir='images', adult_filter_off = True)"
      ],
      "execution_count": 5,
      "outputs": [
        {
          "output_type": "stream",
          "text": [
            "\n",
            "\n",
            "[!!]Indexing page: 1\n",
            "\n",
            "[%] Indexed 30 Images on Page 1.\n",
            "\n",
            "===============================================\n",
            "\n",
            "[%] Downloading Image #1 from http://www.antiquepurveyor.com/productimages/wheatsheaf-carved-shield-back-arm-chair-8195.jpg\n",
            "[%] File Downloaded !\n",
            "\n",
            "[%] Downloading Image #2 from https://assets3.parliament.uk/iv/original/ImageVault/Images/scope_0/filename_2oti5DZCW81C8JbBASpQ.jpg/storage_Edited/ImageVaultHandler.aspx.jpg\n",
            "[%] File Downloaded !\n",
            "\n",
            "[%] Downloading Image #3 from https://www.modernmiami.com/media/catalog/product/cache/3/thumbnail/9df78eab33525d08d6e5fb8d27136e95/m/a/maxi-black-oak-chair---dsc_1414.jpg\n",
            "[!] Issue getting: https://www.modernmiami.com/media/catalog/product/cache/3/thumbnail/9df78eab33525d08d6e5fb8d27136e95/m/a/maxi-black-oak-chair---dsc_1414.jpg\n",
            "[!] Error:: <urlopen error [SSL: CERTIFICATE_VERIFY_FAILED] certificate verify failed (_ssl.c:852)>\n",
            "[%] Downloading Image #3 from http://grshop.com/media/catalog/product/cache/1/image/1800x/040ec09b1e35df139433887a97daa66f/e/a/eames_molded_side_chair-3.jpg\n",
            "[%] File Downloaded !\n",
            "\n",
            "[%] Downloading Image #4 from http://www.antiques.com/vendor_item_images/ori_1788_447265485_1129784_Interior_Overview_of_Chair.jpg\n",
            "[%] File Downloaded !\n",
            "\n",
            "[%] Downloading Image #5 from https://www.ikea.com/us/en/images/products/strandmon-wing-chair__0392556_PE560378_S5.JPG\n",
            "[%] File Downloaded !\n",
            "\n",
            "[%] Downloading Image #6 from https://www.ethanallen.com/on/demandware.static/-/Sites-main/default/dw6fb9b78f/images/large_gray/20-7249_43730_944_FRONT.jpg\n",
            "[%] File Downloaded !\n",
            "\n",
            "[%] Downloading Image #7 from https://s3.dutchcrafters.com/productimages/product_images/pid_57593-Amish-Lawson-Dining-Chair--610.jpg\n",
            "[%] File Downloaded !\n",
            "\n",
            "[%] Downloading Image #8 from https://www.choicefurnituredirect.co.uk/wp-content/uploads/2018/03/1875-quaker-FW-1.jpg\n",
            "[%] File Downloaded !\n",
            "\n",
            "[%] Downloading Image #9 from https://www.trampsuk.co.uk/tramps/uploads/Small-Vintage-Folding-Chair.jpg\n",
            "[%] File Downloaded !\n",
            "\n",
            "[%] Downloading Image #10 from https://wcep.com/wp-content/uploads/2017/08/Fruitwood-Brown-Chiavari-Chair_3.jpg\n",
            "[%] File Downloaded !\n",
            "\n",
            "[%] Downloading Image #11 from https://cdn0.rubylane.com/shops/solvangantiques/LALNx2016.1L.jpg\n",
            "[%] File Downloaded !\n",
            "\n",
            "[%] Downloading Image #12 from https://adobeinteriors.com/image/cache/catalog/office/desk-chairs/chisum-saloon-turquoise-desk-chair-4-910x1155.jpg\n",
            "[%] File Downloaded !\n",
            "\n",
            "[%] Downloading Image #13 from https://www.furntastic.co.uk/images/Furntastic/Dining-Chairs/3-Ellie-Grey-Velvet-Knockerback-Dining-Chair.jpg\n",
            "[%] File Downloaded !\n",
            "\n",
            "[%] Downloading Image #14 from https://www.121officefurniture.co.uk/Uploads/2019/07/17/x600/2bw6eVnM_pluto-office-chair-bcf-s511-bk-001.jpg\n",
            "[%] File Downloaded !\n",
            "\n",
            "[%] Downloading Image #15 from https://i5.walmartimages.com/asr/29ca4f98-fe2d-45c1-b83c-b51235690bb1_1.8f5ea728333defbe92070c3a4048a8ac.jpeg\n",
            "[%] File Downloaded !\n",
            "\n",
            "[%] Downloading Image #16 from https://www.fdinteriors.co.uk/images/products/treviso-ornate-cherry-wood-dining-chair-23E0.jpg\n",
            "[%] File Downloaded !\n",
            "\n",
            "[%] Downloading Image #17 from http://www.furnitureshopping.com/images/products/8/10328/Coaster-Traditional-Style-Leather-Like-Vinyl-Home-Office-Chair-800142.jpg\n",
            "[%] File Downloaded !\n",
            "\n",
            "[%] Downloading Image #18 from https://kdrshowrooms.com/wp-content/uploads/2017/08/128932_McGuire_Regency_Chair.png\n",
            "[%] File Downloaded !\n",
            "\n",
            "[%] Downloading Image #19 from https://eumedia.aosomcdn.com/gb/catalog/product/d/0/d06b03b163cdae9b21ebaf156c5cac1d.jpg\n",
            "[%] File Downloaded !\n",
            "\n",
            "[%] Downloading Image #20 from https://grandrapidschair.com/wp-content/uploads/2016/04/W515_Hugh_Black-1.jpg\n",
            "[%] File Downloaded !\n",
            "\n",
            "[%] Downloading Image #21 from http://images.antiquesatlas.com/dealer-stock-images/lovedayantiques/A_Fine_Antique_Walnut_Desk_Cha_as501a563z-3.jpg\n",
            "[%] File Downloaded !\n",
            "\n",
            "[%] Downloading Image #22 from https://cdn.shopify.com/s/files/1/3004/4124/products/81m-dnf4JGL._SL1500.jpg?v=1575587203\n",
            "[%] File Downloaded !\n",
            "\n",
            "[%] Downloading Image #23 from https://img.thrfun.com/img/215/816/identifying_an_antique_chair_x5.jpg\n",
            "[%] File Downloaded !\n",
            "\n",
            "[%] Downloading Image #24 from http://www.antiques.com/vendor_item_images/ori_1788_1961768330_1129784_Overview_of_Chair.jpg\n",
            "[%] File Downloaded !\n",
            "\n",
            "[%] Downloading Image #25 from https://gadgetflowcdn.com/wp-content/uploads/2017/02/Wooden-Shell-Luxury-Chair-2.jpeg\n",
            "[%] File Downloaded !\n",
            "\n",
            "[%] Downloading Image #26 from https://onebigoutlet.com/media/catalog/product/cache/1/image/1200x1200/9df78eab33525d08d6e5fb8d27136e95/0/1/014-hg-30304-gy_2_2.jpg\n",
            "[%] File Downloaded !\n",
            "\n",
            "[%] Downloading Image #27 from https://www.ikea.com/my/en/images/products/norraryd-chair__0727341_PE735613_S5.JPG\n",
            "[%] File Downloaded !\n",
            "\n",
            "[%] Downloading Image #28 from https://www.tedesk.com/wp-content/uploads/2019/04/chair_haworth_improv_vinyl_41619.jpg\n",
            "[%] File Downloaded !\n",
            "\n",
            "[%] Downloading Image #29 from https://i5.walmartimages.com/asr/46b03644-fea4-4bf3-9e6e-14649598f4da.ac6d1b9f30d4e200a2c6bb7df0846304.jpeg\n",
            "[%] File Downloaded !\n",
            "\n",
            "\n",
            "\n",
            "[!!]Indexing page: 2\n",
            "\n",
            "[%] Indexed 35 Images on Page 2.\n",
            "\n",
            "===============================================\n",
            "\n",
            "[%] Downloading Image #30 from http://www.antiquepurveyor.com/productimages/wheatsheaf-carved-shield-back-arm-chair-8195.jpg\n",
            "[%] File Downloaded !\n",
            "\n",
            "\n",
            "\n",
            "[%] Done. Downloaded 30 images.\n",
            "\n",
            "===============================================\n",
            "\n",
            "time: 18.1 s (started: 2021-02-22 16:41:03 +00:00)\n"
          ],
          "name": "stdout"
        }
      ]
    },
    {
      "cell_type": "code",
      "metadata": {
        "colab": {
          "base_uri": "https://localhost:8080/"
        },
        "id": "fVcf4vw6E4xb",
        "outputId": "7e73adc1-15a7-4f0c-f95d-8e0a2eed698f"
      },
      "source": [
        "from bing_image_downloader import downloader\r\n",
        "downloader.download(\"dog\", limit=30,output_dir='images', adult_filter_off = True)"
      ],
      "execution_count": 6,
      "outputs": [
        {
          "output_type": "stream",
          "text": [
            "\n",
            "\n",
            "[!!]Indexing page: 1\n",
            "\n",
            "[%] Indexed 30 Images on Page 1.\n",
            "\n",
            "===============================================\n",
            "\n",
            "[%] Downloading Image #1 from https://peopledotcom.files.wordpress.com/2017/05/downward-dog-2.jpg\n",
            "[!] Issue getting: https://peopledotcom.files.wordpress.com/2017/05/downward-dog-2.jpg\n",
            "[!] Error:: HTTP Error 403: Forbidden\n",
            "[%] Downloading Image #1 from http://www.bkcphoto.com/Portraits/wp-content/uploads/2014/03/Dog_Faces_06.jpg\n",
            "[!] Issue getting: http://www.bkcphoto.com/Portraits/wp-content/uploads/2014/03/Dog_Faces_06.jpg\n",
            "[!] Error:: HTTP Error 404: Not Found\n",
            "[%] Downloading Image #1 from https://sydneydruglawyers.com.au/wp-content/uploads/sniffer-dog-1024x1024.jpg\n",
            "[%] File Downloaded !\n",
            "\n",
            "[%] Downloading Image #2 from http://www.parade.pet/assets-v2/images/dog/img-dogs/02.jpg\n",
            "[%] File Downloaded !\n",
            "\n",
            "[%] Downloading Image #3 from https://www.sciencealert.com/images/articles/processed/dog-doubt_1024.jpg\n",
            "[%] File Downloaded !\n",
            "\n",
            "[%] Downloading Image #4 from https://pawsh-magazine.com/wp-content/uploads/2019/02/online-dog-magazine-newborn-puppy-shoot-1a.jpg\n",
            "[%] File Downloaded !\n",
            "\n",
            "[%] Downloading Image #5 from https://jooinn.com/images/dog-67.jpg\n",
            "[%] File Downloaded !\n",
            "\n",
            "[%] Downloading Image #6 from https://upload.wikimedia.org/wikipedia/commons/thumb/b/b8/Australian_Catle_Dog_Silverbarn's_Paavo.jpg/1200px-Australian_Catle_Dog_Silverbarn's_Paavo.jpg\n",
            "[%] File Downloaded !\n",
            "\n",
            "[%] Downloading Image #7 from https://www.k9web.com/wp-content/uploads/2019/01/basenjis-dog.jpg\n",
            "[%] File Downloaded !\n",
            "\n",
            "[%] Downloading Image #8 from https://www.stevedalepetworld.com/wp-content/uploads/2019/02/dog-in-shelter.jpg\n",
            "[%] File Downloaded !\n",
            "\n",
            "[%] Downloading Image #9 from https://www.townofsweden.org/static/sitefiles/departments/dog.jpg\n",
            "[%] File Downloaded !\n",
            "\n",
            "[%] Downloading Image #10 from https://knoji.com/images/user/sad%20snow%20dog.jpg\n",
            "[%] File Downloaded !\n",
            "\n",
            "[%] Downloading Image #11 from https://www.quickanddirtytips.com/sites/default/files/images/2897/Dog_Chew.jpg\n",
            "[%] File Downloaded !\n",
            "\n",
            "[%] Downloading Image #12 from https://usercontent2.hubstatic.com/14492349_f1024.jpg\n",
            "[%] File Downloaded !\n",
            "\n",
            "[%] Downloading Image #13 from https://img.dog-learn.com/dog-breeds/thai-ridgeback/thai-ridgeback-i3.jpg\n",
            "[%] File Downloaded !\n",
            "\n",
            "[%] Downloading Image #14 from http://dogdayzgrooming.com/wp-content/gallery/home-gallery/Laughing-Golden-1140x760.jpg\n",
            "[%] File Downloaded !\n",
            "\n",
            "[%] Downloading Image #15 from https://www.hdwallpapers.in/download/cute_pomeranian_dog-1920x1080.jpg\n",
            "[%] File Downloaded !\n",
            "\n",
            "[%] Downloading Image #16 from https://img.thrfun.com/img/083/608/panting_dog_x1.jpg\n",
            "[%] File Downloaded !\n",
            "\n",
            "[%] Downloading Image #17 from https://www.organicauthority.com/.image/t_share/MTU5MzI5NjYxMTcwNjIzNzAy/img_5121.jpg\n",
            "[%] File Downloaded !\n",
            "\n",
            "[%] Downloading Image #18 from https://petskb.com/wp-content/uploads/2019/08/dog-excited.jpg\n",
            "[%] File Downloaded !\n",
            "\n",
            "[%] Downloading Image #19 from http://4.bp.blogspot.com/-up_IKtLpyjg/TaETE35x4jI/AAAAAAAAG_Y/wGrZyCkMJ1c/s1600/Dalmatian-dog6.jpg\n",
            "[%] File Downloaded !\n",
            "\n",
            "[%] Downloading Image #20 from https://buzzsharer.com/wp-content/uploads/2015/04/dachshund-adorable-dog.jpg\n",
            "[%] File Downloaded !\n",
            "\n",
            "[%] Downloading Image #21 from http://stubbydog.org/wp-content/uploads/2011/04/honey_575p.jpg\n",
            "[%] File Downloaded !\n",
            "\n",
            "[%] Downloading Image #22 from https://thesmartcanine.com/wp-content/uploads/2018/08/akita-japanese-dog.jpg\n",
            "[%] File Downloaded !\n",
            "\n",
            "[%] Downloading Image #23 from https://www.simplybehaviour.com/wp-content/uploads/2016/03/dog-486550.jpg\n",
            "[%] File Downloaded !\n",
            "\n",
            "[%] Downloading Image #24 from http://www.rspcasa.org.au/wp-content/uploads/2018/11/Puppy_dogtraining.jpg\n",
            "[%] File Downloaded !\n",
            "\n",
            "[%] Downloading Image #25 from https://www.cheatsheet.com/wp-content/uploads/2017/07/hunting-dog-640x427.jpg\n",
            "[%] File Downloaded !\n",
            "\n",
            "[%] Downloading Image #26 from https://www.rheumatoidarthritis.org/wp-content/uploads/2018/04/dog-featured.jpg\n",
            "[%] File Downloaded !\n",
            "\n",
            "[%] Downloading Image #27 from https://buzzsharer.com/wp-content/uploads/2016/03/dachshund-dog-face.jpg\n",
            "[%] File Downloaded !\n",
            "\n",
            "[%] Downloading Image #28 from http://images.hellogiggles.com/uploads/2017/02/04230309/happy-dog.jpg\n",
            "[%] File Downloaded !\n",
            "\n",
            "\n",
            "\n",
            "[!!]Indexing page: 2\n",
            "\n",
            "[%] Indexed 35 Images on Page 2.\n",
            "\n",
            "===============================================\n",
            "\n",
            "[%] Downloading Image #29 from https://upload.wikimedia.org/wikipedia/commons/thumb/b/b8/Australian_Catle_Dog_Silverbarn's_Paavo.jpg/1200px-Australian_Catle_Dog_Silverbarn's_Paavo.jpg\n",
            "[%] File Downloaded !\n",
            "\n",
            "[%] Downloading Image #30 from https://img.thrfun.com/img/083/608/panting_dog_x1.jpg\n",
            "[%] File Downloaded !\n",
            "\n",
            "\n",
            "\n",
            "[%] Done. Downloaded 30 images.\n",
            "\n",
            "===============================================\n",
            "\n",
            "time: 14.1 s (started: 2021-02-22 16:42:06 +00:00)\n"
          ],
          "name": "stdout"
        }
      ]
    },
    {
      "cell_type": "code",
      "metadata": {
        "colab": {
          "base_uri": "https://localhost:8080/"
        },
        "id": "-vkP259iFqkl",
        "outputId": "50ffb4e2-af33-401d-b2cf-f814f2a81306"
      },
      "source": [
        "#Preprocessing the images\r\n",
        "\r\n",
        "import os\r\n",
        "import matplotlib.pyplot as plt\r\n",
        "import numpy as np\r\n",
        "from skimage.io import imread\r\n",
        "from skimage.transform import resize"
      ],
      "execution_count": 7,
      "outputs": [
        {
          "output_type": "stream",
          "text": [
            "time: 1.02 s (started: 2021-02-22 16:42:56 +00:00)\n"
          ],
          "name": "stdout"
        }
      ]
    },
    {
      "cell_type": "code",
      "metadata": {
        "colab": {
          "base_uri": "https://localhost:8080/"
        },
        "id": "MAANT3DiFuHl",
        "outputId": "eead6c00-2603-4b8a-ea45-6a0831239fa4"
      },
      "source": [
        "# Flattening the images\r\n",
        "Target = []\r\n",
        "Images = []\r\n",
        "Flattened_data = []\r\n",
        "DATADIR = '/content/images'\r\n",
        "CATAGORIES = ['chair', 'dog', 'fruits']\r\n"
      ],
      "execution_count": 11,
      "outputs": [
        {
          "output_type": "stream",
          "text": [
            "time: 3.25 ms (started: 2021-02-22 16:49:15 +00:00)\n"
          ],
          "name": "stdout"
        }
      ]
    },
    {
      "cell_type": "code",
      "metadata": {
        "colab": {
          "base_uri": "https://localhost:8080/"
        },
        "id": "B_OPc_KEGhSK",
        "outputId": "646c0b0e-7bf7-4c47-a052-57e1dd301b06"
      },
      "source": [
        "for catagory in CATAGORIES :\r\n",
        "  class_num = CATAGORIES.index(catagory)\r\n",
        "  path = os.path.join(DATADIR,catagory)\r\n",
        "  # Now we will read the values by iterating and is stored\r\n",
        "  for img in os.listdir(path) :\r\n",
        "    Image_Array = imread(os.path.join(path,img))\r\n",
        "    # plt.imshow(Image_Array) to show the images\r\n",
        "    Image_Resized = resize(Image_Array,(150,150,3))\r\n",
        "    # Now passing the flattened verion\r\n",
        "    Flattened_data.append(Image_Resized.flatten())\r\n",
        "    Images.append(Image_Resized)\r\n",
        "    Target.append(class_num)\r\n",
        "\r\n"
      ],
      "execution_count": 12,
      "outputs": [
        {
          "output_type": "stream",
          "text": [
            "time: 1min 28s (started: 2021-02-22 16:49:21 +00:00)\n"
          ],
          "name": "stdout"
        }
      ]
    },
    {
      "cell_type": "code",
      "metadata": {
        "id": "u3E8IFkEGrM9",
        "colab": {
          "base_uri": "https://localhost:8080/"
        },
        "outputId": "2e54b140-865b-40c8-f1e2-886d53a746d8"
      },
      "source": [
        "Flattened_data = np.array(Flattened_data)\r\n",
        "Images = np.array(Images)\r\n",
        "Target = np.array(Target)"
      ],
      "execution_count": 13,
      "outputs": [
        {
          "output_type": "stream",
          "text": [
            "time: 64.2 ms (started: 2021-02-22 16:51:10 +00:00)\n"
          ],
          "name": "stdout"
        }
      ]
    },
    {
      "cell_type": "code",
      "metadata": {
        "id": "szTy4vLzG9wH",
        "colab": {
          "base_uri": "https://localhost:8080/"
        },
        "outputId": "5268ff2e-959e-4f8d-d23a-d66e93469236"
      },
      "source": [
        "Flattened_data.shape"
      ],
      "execution_count": 14,
      "outputs": [
        {
          "output_type": "execute_result",
          "data": {
            "text/plain": [
              "(90, 67500)"
            ]
          },
          "metadata": {
            "tags": []
          },
          "execution_count": 14
        },
        {
          "output_type": "stream",
          "text": [
            "time: 4.81 ms (started: 2021-02-22 16:51:12 +00:00)\n"
          ],
          "name": "stdout"
        }
      ]
    },
    {
      "cell_type": "code",
      "metadata": {
        "id": "n7vYP0ngG_1y",
        "colab": {
          "base_uri": "https://localhost:8080/"
        },
        "outputId": "c40e73a4-3a73-4b50-a231-4a4266775950"
      },
      "source": [
        "Target.shape"
      ],
      "execution_count": 15,
      "outputs": [
        {
          "output_type": "execute_result",
          "data": {
            "text/plain": [
              "(90,)"
            ]
          },
          "metadata": {
            "tags": []
          },
          "execution_count": 15
        },
        {
          "output_type": "stream",
          "text": [
            "time: 3.34 ms (started: 2021-02-22 16:51:14 +00:00)\n"
          ],
          "name": "stdout"
        }
      ]
    },
    {
      "cell_type": "code",
      "metadata": {
        "id": "KCPGnwZ-HFAB",
        "colab": {
          "base_uri": "https://localhost:8080/"
        },
        "outputId": "8e8d9f2e-396f-4e24-918a-981224e793a2"
      },
      "source": [
        "np.unique(Target, return_counts=True)"
      ],
      "execution_count": 16,
      "outputs": [
        {
          "output_type": "execute_result",
          "data": {
            "text/plain": [
              "(array([0, 1, 2]), array([30, 30, 30]))"
            ]
          },
          "metadata": {
            "tags": []
          },
          "execution_count": 16
        },
        {
          "output_type": "stream",
          "text": [
            "time: 4.16 ms (started: 2021-02-22 16:51:19 +00:00)\n"
          ],
          "name": "stdout"
        }
      ]
    },
    {
      "cell_type": "code",
      "metadata": {
        "id": "LFTQc3uFHIPW",
        "colab": {
          "base_uri": "https://localhost:8080/"
        },
        "outputId": "e5e9b147-b335-41ad-ea2e-ac5fc744f490"
      },
      "source": [
        "from sklearn.model_selection import GridSearchCV\r\n",
        "from sklearn import svm"
      ],
      "execution_count": 17,
      "outputs": [
        {
          "output_type": "stream",
          "text": [
            "time: 326 ms (started: 2021-02-22 16:51:21 +00:00)\n"
          ],
          "name": "stdout"
        }
      ]
    },
    {
      "cell_type": "code",
      "metadata": {
        "colab": {
          "base_uri": "https://localhost:8080/"
        },
        "id": "gISHUigzHKRY",
        "outputId": "1957a728-d678-4507-a845-1ec2bde6e946"
      },
      "source": [
        "# Spliting Data into Training and Testing\r\n",
        "from sklearn.model_selection import train_test_split\r\n",
        "x_train, x_test, y_train, y_test = train_test_split(Flattened_data, Target, test_size = 0.3, random_state = 109)"
      ],
      "execution_count": 18,
      "outputs": [
        {
          "output_type": "stream",
          "text": [
            "time: 18.3 ms (started: 2021-02-22 16:51:24 +00:00)\n"
          ],
          "name": "stdout"
        }
      ]
    },
    {
      "cell_type": "code",
      "metadata": {
        "colab": {
          "base_uri": "https://localhost:8080/"
        },
        "id": "MdI6puLdHQvX",
        "outputId": "8627f672-4e76-4f8b-c017-4f59c6df4e11"
      },
      "source": [
        "from sklearn.model_selection import GridSearchCV\r\n",
        "from sklearn import svm\r\n",
        "param_grid = [\r\n",
        "  {'C': [1, 10, 100, 1000], 'kernel': ['linear']},\r\n",
        "  {'C': [1, 10, 100, 1000], 'gamma': [0.001, 0.0001], 'kernel': ['rbf']},\r\n",
        " ]\r\n",
        "svc = svm.SVC(probability = True)\r\n",
        "clf = GridSearchCV(svc,param_grid)\r\n",
        "clf.fit(x_train,y_train)"
      ],
      "execution_count": 19,
      "outputs": [
        {
          "output_type": "execute_result",
          "data": {
            "text/plain": [
              "GridSearchCV(cv=None, error_score=nan,\n",
              "             estimator=SVC(C=1.0, break_ties=False, cache_size=200,\n",
              "                           class_weight=None, coef0=0.0,\n",
              "                           decision_function_shape='ovr', degree=3,\n",
              "                           gamma='scale', kernel='rbf', max_iter=-1,\n",
              "                           probability=True, random_state=None, shrinking=True,\n",
              "                           tol=0.001, verbose=False),\n",
              "             iid='deprecated', n_jobs=None,\n",
              "             param_grid=[{'C': [1, 10, 100, 1000], 'kernel': ['linear']},\n",
              "                         {'C': [1, 10, 100, 1000], 'gamma': [0.001, 0.0001],\n",
              "                          'kernel': ['rbf']}],\n",
              "             pre_dispatch='2*n_jobs', refit=True, return_train_score=False,\n",
              "             scoring=None, verbose=0)"
            ]
          },
          "metadata": {
            "tags": []
          },
          "execution_count": 19
        },
        {
          "output_type": "stream",
          "text": [
            "time: 2min 1s (started: 2021-02-22 16:51:30 +00:00)\n"
          ],
          "name": "stdout"
        }
      ]
    },
    {
      "cell_type": "code",
      "metadata": {
        "colab": {
          "base_uri": "https://localhost:8080/"
        },
        "id": "CBr-cVxNHSpA",
        "outputId": "f1307ef4-19fd-40ca-c045-f8b30716af3e"
      },
      "source": [
        "y_pred = clf.predict(x_test)\r\n",
        "y_pred"
      ],
      "execution_count": 20,
      "outputs": [
        {
          "output_type": "execute_result",
          "data": {
            "text/plain": [
              "array([1, 1, 2, 2, 2, 0, 0, 1, 0, 0, 1, 0, 1, 2, 2, 1, 2, 0, 0, 1, 2, 0,\n",
              "       2, 0, 2, 2, 1])"
            ]
          },
          "metadata": {
            "tags": []
          },
          "execution_count": 20
        },
        {
          "output_type": "stream",
          "text": [
            "time: 189 ms (started: 2021-02-22 16:54:00 +00:00)\n"
          ],
          "name": "stdout"
        }
      ]
    },
    {
      "cell_type": "code",
      "metadata": {
        "colab": {
          "base_uri": "https://localhost:8080/"
        },
        "id": "jbMLld_EHm3r",
        "outputId": "e8bd9005-f852-4c92-95b6-a9bd1290c0f4"
      },
      "source": [
        "y_test"
      ],
      "execution_count": 21,
      "outputs": [
        {
          "output_type": "execute_result",
          "data": {
            "text/plain": [
              "array([1, 0, 1, 2, 2, 1, 0, 1, 1, 0, 1, 0, 1, 2, 2, 1, 2, 1, 0, 1, 2, 2,\n",
              "       2, 0, 0, 0, 1])"
            ]
          },
          "metadata": {
            "tags": []
          },
          "execution_count": 21
        },
        {
          "output_type": "stream",
          "text": [
            "time: 8.95 ms (started: 2021-02-22 16:54:06 +00:00)\n"
          ],
          "name": "stdout"
        }
      ]
    },
    {
      "cell_type": "code",
      "metadata": {
        "colab": {
          "base_uri": "https://localhost:8080/"
        },
        "id": "nVabu44sH5vo",
        "outputId": "6f75e9ac-09ec-4b18-a1e7-302a7e96966f"
      },
      "source": [
        "from sklearn.metrics import accuracy_score, confusion_matrix"
      ],
      "execution_count": 22,
      "outputs": [
        {
          "output_type": "stream",
          "text": [
            "time: 1.1 ms (started: 2021-02-22 16:54:08 +00:00)\n"
          ],
          "name": "stdout"
        }
      ]
    },
    {
      "cell_type": "code",
      "metadata": {
        "colab": {
          "base_uri": "https://localhost:8080/"
        },
        "id": "m0hR3PivIm7m",
        "outputId": "39278885-325b-4cdf-88c5-5f289248527d"
      },
      "source": [
        "accuracy_score(y_pred, y_test)"
      ],
      "execution_count": 23,
      "outputs": [
        {
          "output_type": "execute_result",
          "data": {
            "text/plain": [
              "0.7037037037037037"
            ]
          },
          "metadata": {
            "tags": []
          },
          "execution_count": 23
        },
        {
          "output_type": "stream",
          "text": [
            "time: 3.59 ms (started: 2021-02-22 16:54:11 +00:00)\n"
          ],
          "name": "stdout"
        }
      ]
    },
    {
      "cell_type": "code",
      "metadata": {
        "colab": {
          "base_uri": "https://localhost:8080/"
        },
        "id": "YBJWnDVMIz-Q",
        "outputId": "b263a3dc-0910-4f5e-ad5c-43095af88929"
      },
      "source": [
        "confusion_matrix(y_pred, y_test)"
      ],
      "execution_count": 24,
      "outputs": [
        {
          "output_type": "execute_result",
          "data": {
            "text/plain": [
              "array([[5, 3, 1],\n",
              "       [1, 7, 0],\n",
              "       [2, 1, 7]])"
            ]
          },
          "metadata": {
            "tags": []
          },
          "execution_count": 24
        },
        {
          "output_type": "stream",
          "text": [
            "time: 4.18 ms (started: 2021-02-22 16:54:13 +00:00)\n"
          ],
          "name": "stdout"
        }
      ]
    },
    {
      "cell_type": "code",
      "metadata": {
        "colab": {
          "base_uri": "https://localhost:8080/"
        },
        "id": "dwGp40RxJpI7",
        "outputId": "883f1f6d-f488-4dd6-9819-3fb62159bb29"
      },
      "source": [
        "# Save the model using Pickel library\r\n",
        "import pickle\r\n",
        "pickle.dump(clf, open('img_model.p', 'wb' ))"
      ],
      "execution_count": 25,
      "outputs": [
        {
          "output_type": "stream",
          "text": [
            "time: 45.2 ms (started: 2021-02-22 16:54:15 +00:00)\n"
          ],
          "name": "stdout"
        }
      ]
    },
    {
      "cell_type": "code",
      "metadata": {
        "colab": {
          "base_uri": "https://localhost:8080/"
        },
        "id": "lotdDxUuKb0W",
        "outputId": "835f43d1-3833-4ea7-bede-645cf035caec"
      },
      "source": [
        "model = pickle.load(open('img_model.p', 'rb'))"
      ],
      "execution_count": 35,
      "outputs": [
        {
          "output_type": "stream",
          "text": [
            "time: 26.4 ms (started: 2021-02-22 17:45:16 +00:00)\n"
          ],
          "name": "stdout"
        }
      ]
    },
    {
      "cell_type": "code",
      "metadata": {
        "colab": {
          "base_uri": "https://localhost:8080/"
        },
        "id": "uRdU0v-WLnac",
        "outputId": "bde0b3da-30cd-4106-98fa-dc2a6b40e13e"
      },
      "source": [
        "# Testing a brand new image\r\n",
        "Flattened_data = []\r\n",
        "url = input(\"Enter URL of the image\")\r\n",
        "img = imread(url)\r\n",
        "img_resized = resize(img,(150,150,3))\r\n",
        "Flattened_data.append(img_resized.flatten())\r\n",
        "Flattened_data = np.array(Flattened_data)\r\n",
        "y_out = model.predict(Flattened_data)\r\n",
        "y_out = CATAGORIES[y_out[0]]\r\n",
        "print(\"Predicted Output :\")\r\n",
        "print(y_out)"
      ],
      "execution_count": 36,
      "outputs": [
        {
          "output_type": "stream",
          "text": [
            "Enter URL of the imagehttps://th.bing.com/th/id/R210443c33abce84e4d9b2a7f9ab00c8c?rik=I%2b2Dw%2bdNhP6Dpg&riu=http%3a%2f%2fnewmanwray.co.uk%2fwp-content%2fgallery%2fpet_portrait_2015_2_pt1%2fdog_photo_portrait_002.jpg&ehk=PCw0VGtrkEd5soonCfUBYqmi0pIzl19ySe3dJmvp3Ds%3d&risl=&pid=ImgRaw\n",
            "Predicted Output :\n",
            "dog\n",
            "time: 2min 9s (started: 2021-02-22 17:45:20 +00:00)\n"
          ],
          "name": "stdout"
        }
      ]
    },
    {
      "cell_type": "code",
      "metadata": {
        "colab": {
          "base_uri": "https://localhost:8080/",
          "height": 1000
        },
        "id": "TR2I0ZHF9zcb",
        "outputId": "d63851c4-518b-48c5-fe8c-538da7cd654d"
      },
      "source": [
        "#!pip install streamlit\r\n",
        "#!pip install pyngrok\r\n",
        "#from pyngrok import ngrok"
      ],
      "execution_count": null,
      "outputs": [
        {
          "output_type": "stream",
          "text": [
            "Collecting streamlit\n",
            "\u001b[?25l  Downloading https://files.pythonhosted.org/packages/b2/97/ae3c52932853399cc748e4f3e4947659b0b487fad3a4df391557442a92db/streamlit-0.76.0-py2.py3-none-any.whl (7.5MB)\n",
            "\u001b[K     |████████████████████████████████| 7.5MB 10.6MB/s \n",
            "\u001b[?25hRequirement already satisfied: pyarrow; python_version < \"3.9\" in /usr/local/lib/python3.6/dist-packages (from streamlit) (0.14.1)\n",
            "Collecting watchdog; platform_system != \"Darwin\"\n",
            "\u001b[?25l  Downloading https://files.pythonhosted.org/packages/f8/29/21ce5a06261a729e9336fa86dc52625dfcecf9b07151be2c92436863943a/watchdog-2.0.1-py3-none-manylinux2014_x86_64.whl (74kB)\n",
            "\u001b[K     |████████████████████████████████| 81kB 6.4MB/s \n",
            "\u001b[?25hRequirement already satisfied: pillow>=6.2.0 in /usr/local/lib/python3.6/dist-packages (from streamlit) (7.0.0)\n",
            "Collecting validators\n",
            "  Downloading https://files.pythonhosted.org/packages/db/2f/7fed3ee94ad665ad2c1de87f858f10a7785251ff75b4fd47987888d07ef1/validators-0.18.2-py3-none-any.whl\n",
            "Collecting blinker\n",
            "\u001b[?25l  Downloading https://files.pythonhosted.org/packages/1b/51/e2a9f3b757eb802f61dc1f2b09c8c99f6eb01cf06416c0671253536517b6/blinker-1.4.tar.gz (111kB)\n",
            "\u001b[K     |████████████████████████████████| 112kB 43.8MB/s \n",
            "\u001b[?25hCollecting pydeck>=0.1.dev5\n",
            "\u001b[?25l  Downloading https://files.pythonhosted.org/packages/1c/3f/8f04ae0c22d82ec7bec7fcc03270a142f637e362bbd285f7daeeda24fbef/pydeck-0.6.1-py2.py3-none-any.whl (4.6MB)\n",
            "\u001b[K     |████████████████████████████████| 4.6MB 45.8MB/s \n",
            "\u001b[?25hRequirement already satisfied: pandas>=0.21.0 in /usr/local/lib/python3.6/dist-packages (from streamlit) (1.1.5)\n",
            "Requirement already satisfied: numpy in /usr/local/lib/python3.6/dist-packages (from streamlit) (1.19.5)\n",
            "Requirement already satisfied: altair>=3.2.0 in /usr/local/lib/python3.6/dist-packages (from streamlit) (4.1.0)\n",
            "Requirement already satisfied: packaging in /usr/local/lib/python3.6/dist-packages (from streamlit) (20.9)\n",
            "Requirement already satisfied: requests in /usr/local/lib/python3.6/dist-packages (from streamlit) (2.23.0)\n",
            "Collecting base58\n",
            "  Downloading https://files.pythonhosted.org/packages/b8/a1/d9f565e9910c09fd325dc638765e8843a19fa696275c16cc08cf3b0a3c25/base58-2.1.0-py3-none-any.whl\n",
            "Requirement already satisfied: toml in /usr/local/lib/python3.6/dist-packages (from streamlit) (0.10.2)\n",
            "Requirement already satisfied: protobuf!=3.11,>=3.6.0 in /usr/local/lib/python3.6/dist-packages (from streamlit) (3.12.4)\n",
            "Requirement already satisfied: cachetools>=4.0 in /usr/local/lib/python3.6/dist-packages (from streamlit) (4.2.1)\n",
            "Requirement already satisfied: astor in /usr/local/lib/python3.6/dist-packages (from streamlit) (0.8.1)\n",
            "Collecting gitpython\n",
            "\u001b[?25l  Downloading https://files.pythonhosted.org/packages/fb/67/47a04d8a9d7f94645676fe683f1ee3fe9be01fe407686c180768a92abaac/GitPython-3.1.13-py3-none-any.whl (159kB)\n",
            "\u001b[K     |████████████████████████████████| 163kB 52.0MB/s \n",
            "\u001b[?25hRequirement already satisfied: python-dateutil in /usr/local/lib/python3.6/dist-packages (from streamlit) (2.8.1)\n",
            "Requirement already satisfied: click>=7.0 in /usr/local/lib/python3.6/dist-packages (from streamlit) (7.1.2)\n",
            "Requirement already satisfied: tzlocal in /usr/local/lib/python3.6/dist-packages (from streamlit) (1.5.1)\n",
            "Requirement already satisfied: tornado>=5.0 in /usr/local/lib/python3.6/dist-packages (from streamlit) (5.1.1)\n",
            "Requirement already satisfied: six>=1.0.0 in /usr/local/lib/python3.6/dist-packages (from pyarrow; python_version < \"3.9\"->streamlit) (1.15.0)\n",
            "Requirement already satisfied: decorator>=3.4.0 in /usr/local/lib/python3.6/dist-packages (from validators->streamlit) (4.4.2)\n",
            "Requirement already satisfied: jinja2>=2.10.1 in /usr/local/lib/python3.6/dist-packages (from pydeck>=0.1.dev5->streamlit) (2.11.3)\n",
            "Requirement already satisfied: ipywidgets>=7.0.0 in /usr/local/lib/python3.6/dist-packages (from pydeck>=0.1.dev5->streamlit) (7.6.3)\n",
            "Requirement already satisfied: traitlets>=4.3.2 in /usr/local/lib/python3.6/dist-packages (from pydeck>=0.1.dev5->streamlit) (4.3.3)\n",
            "Collecting ipykernel>=5.1.2; python_version >= \"3.4\"\n",
            "\u001b[?25l  Downloading https://files.pythonhosted.org/packages/56/95/3a670c8b2c2370bd8631c313f42e60983b3113ffec4035940592252bd6d5/ipykernel-5.5.0-py3-none-any.whl (120kB)\n",
            "\u001b[K     |████████████████████████████████| 122kB 36.7MB/s \n",
            "\u001b[?25hRequirement already satisfied: pytz>=2017.2 in /usr/local/lib/python3.6/dist-packages (from pandas>=0.21.0->streamlit) (2018.9)\n",
            "Requirement already satisfied: toolz in /usr/local/lib/python3.6/dist-packages (from altair>=3.2.0->streamlit) (0.11.1)\n",
            "Requirement already satisfied: entrypoints in /usr/local/lib/python3.6/dist-packages (from altair>=3.2.0->streamlit) (0.3)\n",
            "Requirement already satisfied: jsonschema in /usr/local/lib/python3.6/dist-packages (from altair>=3.2.0->streamlit) (2.6.0)\n",
            "Requirement already satisfied: pyparsing>=2.0.2 in /usr/local/lib/python3.6/dist-packages (from packaging->streamlit) (2.4.7)\n",
            "Requirement already satisfied: idna<3,>=2.5 in /usr/local/lib/python3.6/dist-packages (from requests->streamlit) (2.10)\n",
            "Requirement already satisfied: certifi>=2017.4.17 in /usr/local/lib/python3.6/dist-packages (from requests->streamlit) (2020.12.5)\n",
            "Requirement already satisfied: chardet<4,>=3.0.2 in /usr/local/lib/python3.6/dist-packages (from requests->streamlit) (3.0.4)\n",
            "Requirement already satisfied: urllib3!=1.25.0,!=1.25.1,<1.26,>=1.21.1 in /usr/local/lib/python3.6/dist-packages (from requests->streamlit) (1.24.3)\n",
            "Requirement already satisfied: setuptools in /usr/local/lib/python3.6/dist-packages (from protobuf!=3.11,>=3.6.0->streamlit) (53.0.0)\n",
            "Collecting gitdb<5,>=4.0.1\n",
            "\u001b[?25l  Downloading https://files.pythonhosted.org/packages/48/11/d1800bca0a3bae820b84b7d813ad1eff15a48a64caea9c823fc8c1b119e8/gitdb-4.0.5-py3-none-any.whl (63kB)\n",
            "\u001b[K     |████████████████████████████████| 71kB 5.8MB/s \n",
            "\u001b[?25hRequirement already satisfied: MarkupSafe>=0.23 in /usr/local/lib/python3.6/dist-packages (from jinja2>=2.10.1->pydeck>=0.1.dev5->streamlit) (1.1.1)\n",
            "Requirement already satisfied: ipython>=4.0.0; python_version >= \"3.3\" in /usr/local/lib/python3.6/dist-packages (from ipywidgets>=7.0.0->pydeck>=0.1.dev5->streamlit) (5.5.0)\n",
            "Requirement already satisfied: widgetsnbextension~=3.5.0 in /usr/local/lib/python3.6/dist-packages (from ipywidgets>=7.0.0->pydeck>=0.1.dev5->streamlit) (3.5.1)\n",
            "Requirement already satisfied: nbformat>=4.2.0 in /usr/local/lib/python3.6/dist-packages (from ipywidgets>=7.0.0->pydeck>=0.1.dev5->streamlit) (5.1.2)\n",
            "Requirement already satisfied: jupyterlab-widgets>=1.0.0; python_version >= \"3.6\" in /usr/local/lib/python3.6/dist-packages (from ipywidgets>=7.0.0->pydeck>=0.1.dev5->streamlit) (1.0.0)\n",
            "Requirement already satisfied: ipython-genutils in /usr/local/lib/python3.6/dist-packages (from traitlets>=4.3.2->pydeck>=0.1.dev5->streamlit) (0.2.0)\n",
            "Requirement already satisfied: jupyter-client in /usr/local/lib/python3.6/dist-packages (from ipykernel>=5.1.2; python_version >= \"3.4\"->pydeck>=0.1.dev5->streamlit) (5.3.5)\n",
            "Collecting smmap<4,>=3.0.1\n",
            "  Downloading https://files.pythonhosted.org/packages/d5/1e/6130925131f639b2acde0f7f18b73e33ce082ff2d90783c436b52040af5a/smmap-3.0.5-py2.py3-none-any.whl\n",
            "Requirement already satisfied: prompt-toolkit<2.0.0,>=1.0.4 in /usr/local/lib/python3.6/dist-packages (from ipython>=4.0.0; python_version >= \"3.3\"->ipywidgets>=7.0.0->pydeck>=0.1.dev5->streamlit) (1.0.18)\n",
            "Requirement already satisfied: pexpect; sys_platform != \"win32\" in /usr/local/lib/python3.6/dist-packages (from ipython>=4.0.0; python_version >= \"3.3\"->ipywidgets>=7.0.0->pydeck>=0.1.dev5->streamlit) (4.8.0)\n",
            "Requirement already satisfied: pickleshare in /usr/local/lib/python3.6/dist-packages (from ipython>=4.0.0; python_version >= \"3.3\"->ipywidgets>=7.0.0->pydeck>=0.1.dev5->streamlit) (0.7.5)\n",
            "Requirement already satisfied: pygments in /usr/local/lib/python3.6/dist-packages (from ipython>=4.0.0; python_version >= \"3.3\"->ipywidgets>=7.0.0->pydeck>=0.1.dev5->streamlit) (2.6.1)\n",
            "Requirement already satisfied: simplegeneric>0.8 in /usr/local/lib/python3.6/dist-packages (from ipython>=4.0.0; python_version >= \"3.3\"->ipywidgets>=7.0.0->pydeck>=0.1.dev5->streamlit) (0.8.1)\n",
            "Requirement already satisfied: notebook>=4.4.1 in /usr/local/lib/python3.6/dist-packages (from widgetsnbextension~=3.5.0->ipywidgets>=7.0.0->pydeck>=0.1.dev5->streamlit) (5.3.1)\n",
            "Requirement already satisfied: jupyter-core in /usr/local/lib/python3.6/dist-packages (from nbformat>=4.2.0->ipywidgets>=7.0.0->pydeck>=0.1.dev5->streamlit) (4.7.1)\n",
            "Requirement already satisfied: pyzmq>=13 in /usr/local/lib/python3.6/dist-packages (from jupyter-client->ipykernel>=5.1.2; python_version >= \"3.4\"->pydeck>=0.1.dev5->streamlit) (22.0.2)\n",
            "Requirement already satisfied: wcwidth in /usr/local/lib/python3.6/dist-packages (from prompt-toolkit<2.0.0,>=1.0.4->ipython>=4.0.0; python_version >= \"3.3\"->ipywidgets>=7.0.0->pydeck>=0.1.dev5->streamlit) (0.2.5)\n",
            "Requirement already satisfied: ptyprocess>=0.5 in /usr/local/lib/python3.6/dist-packages (from pexpect; sys_platform != \"win32\"->ipython>=4.0.0; python_version >= \"3.3\"->ipywidgets>=7.0.0->pydeck>=0.1.dev5->streamlit) (0.7.0)\n",
            "Requirement already satisfied: Send2Trash in /usr/local/lib/python3.6/dist-packages (from notebook>=4.4.1->widgetsnbextension~=3.5.0->ipywidgets>=7.0.0->pydeck>=0.1.dev5->streamlit) (1.5.0)\n",
            "Requirement already satisfied: terminado>=0.8.1 in /usr/local/lib/python3.6/dist-packages (from notebook>=4.4.1->widgetsnbextension~=3.5.0->ipywidgets>=7.0.0->pydeck>=0.1.dev5->streamlit) (0.9.2)\n",
            "Requirement already satisfied: nbconvert in /usr/local/lib/python3.6/dist-packages (from notebook>=4.4.1->widgetsnbextension~=3.5.0->ipywidgets>=7.0.0->pydeck>=0.1.dev5->streamlit) (5.6.1)\n",
            "Requirement already satisfied: defusedxml in /usr/local/lib/python3.6/dist-packages (from nbconvert->notebook>=4.4.1->widgetsnbextension~=3.5.0->ipywidgets>=7.0.0->pydeck>=0.1.dev5->streamlit) (0.6.0)\n",
            "Requirement already satisfied: bleach in /usr/local/lib/python3.6/dist-packages (from nbconvert->notebook>=4.4.1->widgetsnbextension~=3.5.0->ipywidgets>=7.0.0->pydeck>=0.1.dev5->streamlit) (3.3.0)\n",
            "Requirement already satisfied: pandocfilters>=1.4.1 in /usr/local/lib/python3.6/dist-packages (from nbconvert->notebook>=4.4.1->widgetsnbextension~=3.5.0->ipywidgets>=7.0.0->pydeck>=0.1.dev5->streamlit) (1.4.3)\n",
            "Requirement already satisfied: testpath in /usr/local/lib/python3.6/dist-packages (from nbconvert->notebook>=4.4.1->widgetsnbextension~=3.5.0->ipywidgets>=7.0.0->pydeck>=0.1.dev5->streamlit) (0.4.4)\n",
            "Requirement already satisfied: mistune<2,>=0.8.1 in /usr/local/lib/python3.6/dist-packages (from nbconvert->notebook>=4.4.1->widgetsnbextension~=3.5.0->ipywidgets>=7.0.0->pydeck>=0.1.dev5->streamlit) (0.8.4)\n",
            "Requirement already satisfied: webencodings in /usr/local/lib/python3.6/dist-packages (from bleach->nbconvert->notebook>=4.4.1->widgetsnbextension~=3.5.0->ipywidgets>=7.0.0->pydeck>=0.1.dev5->streamlit) (0.5.1)\n",
            "Building wheels for collected packages: blinker\n",
            "  Building wheel for blinker (setup.py) ... \u001b[?25l\u001b[?25hdone\n",
            "  Created wheel for blinker: filename=blinker-1.4-cp36-none-any.whl size=13450 sha256=f9094cccf02ec00b0c0752168c669559ac02dbba9d94572085b8cdd908215cec\n",
            "  Stored in directory: /root/.cache/pip/wheels/92/a0/00/8690a57883956a301d91cf4ec999cc0b258b01e3f548f86e89\n",
            "Successfully built blinker\n",
            "\u001b[31mERROR: google-colab 1.0.0 has requirement ipykernel~=4.10, but you'll have ipykernel 5.5.0 which is incompatible.\u001b[0m\n",
            "Installing collected packages: watchdog, validators, blinker, ipykernel, pydeck, base58, smmap, gitdb, gitpython, streamlit\n",
            "  Found existing installation: ipykernel 4.10.1\n",
            "    Uninstalling ipykernel-4.10.1:\n",
            "      Successfully uninstalled ipykernel-4.10.1\n",
            "Successfully installed base58-2.1.0 blinker-1.4 gitdb-4.0.5 gitpython-3.1.13 ipykernel-5.5.0 pydeck-0.6.1 smmap-3.0.5 streamlit-0.76.0 validators-0.18.2 watchdog-2.0.1\n"
          ],
          "name": "stdout"
        },
        {
          "output_type": "display_data",
          "data": {
            "application/vnd.colab-display-data+json": {
              "pip_warning": {
                "packages": [
                  "ipykernel"
                ]
              }
            }
          },
          "metadata": {
            "tags": []
          }
        },
        {
          "output_type": "stream",
          "text": [
            "Collecting pyngrok\n",
            "\u001b[?25l  Downloading https://files.pythonhosted.org/packages/cf/db/dc44d7d54271e46b25b35308fd25d38039ebbe2548215d61dc4ab27de396/pyngrok-5.0.2.tar.gz (731kB)\n",
            "\r\u001b[K     |▌                               | 10kB 16.8MB/s eta 0:00:01\r\u001b[K     |█                               | 20kB 23.8MB/s eta 0:00:01\r\u001b[K     |█▍                              | 30kB 19.4MB/s eta 0:00:01\r\u001b[K     |█▉                              | 40kB 13.0MB/s eta 0:00:01\r\u001b[K     |██▎                             | 51kB 14.5MB/s eta 0:00:01\r\u001b[K     |██▊                             | 61kB 15.4MB/s eta 0:00:01\r\u001b[K     |███▏                            | 71kB 15.1MB/s eta 0:00:01\r\u001b[K     |███▋                            | 81kB 15.4MB/s eta 0:00:01\r\u001b[K     |████                            | 92kB 13.1MB/s eta 0:00:01\r\u001b[K     |████▌                           | 102kB 12.6MB/s eta 0:00:01\r\u001b[K     |█████                           | 112kB 12.6MB/s eta 0:00:01\r\u001b[K     |█████▍                          | 122kB 12.6MB/s eta 0:00:01\r\u001b[K     |█████▉                          | 133kB 12.6MB/s eta 0:00:01\r\u001b[K     |██████▎                         | 143kB 12.6MB/s eta 0:00:01\r\u001b[K     |██████▊                         | 153kB 12.6MB/s eta 0:00:01\r\u001b[K     |███████▏                        | 163kB 12.6MB/s eta 0:00:01\r\u001b[K     |███████▋                        | 174kB 12.6MB/s eta 0:00:01\r\u001b[K     |████████                        | 184kB 12.6MB/s eta 0:00:01\r\u001b[K     |████████▌                       | 194kB 12.6MB/s eta 0:00:01\r\u001b[K     |█████████                       | 204kB 12.6MB/s eta 0:00:01\r\u001b[K     |█████████▍                      | 215kB 12.6MB/s eta 0:00:01\r\u001b[K     |█████████▉                      | 225kB 12.6MB/s eta 0:00:01\r\u001b[K     |██████████▎                     | 235kB 12.6MB/s eta 0:00:01\r\u001b[K     |██████████▊                     | 245kB 12.6MB/s eta 0:00:01\r\u001b[K     |███████████▏                    | 256kB 12.6MB/s eta 0:00:01\r\u001b[K     |███████████▋                    | 266kB 12.6MB/s eta 0:00:01\r\u001b[K     |████████████                    | 276kB 12.6MB/s eta 0:00:01\r\u001b[K     |████████████▌                   | 286kB 12.6MB/s eta 0:00:01\r\u001b[K     |█████████████                   | 296kB 12.6MB/s eta 0:00:01\r\u001b[K     |█████████████▍                  | 307kB 12.6MB/s eta 0:00:01\r\u001b[K     |█████████████▉                  | 317kB 12.6MB/s eta 0:00:01\r\u001b[K     |██████████████▍                 | 327kB 12.6MB/s eta 0:00:01\r\u001b[K     |██████████████▉                 | 337kB 12.6MB/s eta 0:00:01\r\u001b[K     |███████████████▎                | 348kB 12.6MB/s eta 0:00:01\r\u001b[K     |███████████████▊                | 358kB 12.6MB/s eta 0:00:01\r\u001b[K     |████████████████▏               | 368kB 12.6MB/s eta 0:00:01\r\u001b[K     |████████████████▋               | 378kB 12.6MB/s eta 0:00:01\r\u001b[K     |█████████████████               | 389kB 12.6MB/s eta 0:00:01\r\u001b[K     |█████████████████▌              | 399kB 12.6MB/s eta 0:00:01\r\u001b[K     |██████████████████              | 409kB 12.6MB/s eta 0:00:01\r\u001b[K     |██████████████████▍             | 419kB 12.6MB/s eta 0:00:01\r\u001b[K     |██████████████████▉             | 430kB 12.6MB/s eta 0:00:01\r\u001b[K     |███████████████████▎            | 440kB 12.6MB/s eta 0:00:01\r\u001b[K     |███████████████████▊            | 450kB 12.6MB/s eta 0:00:01\r\u001b[K     |████████████████████▏           | 460kB 12.6MB/s eta 0:00:01\r\u001b[K     |████████████████████▋           | 471kB 12.6MB/s eta 0:00:01\r\u001b[K     |█████████████████████           | 481kB 12.6MB/s eta 0:00:01\r\u001b[K     |█████████████████████▌          | 491kB 12.6MB/s eta 0:00:01\r\u001b[K     |██████████████████████          | 501kB 12.6MB/s eta 0:00:01\r\u001b[K     |██████████████████████▍         | 512kB 12.6MB/s eta 0:00:01\r\u001b[K     |██████████████████████▉         | 522kB 12.6MB/s eta 0:00:01\r\u001b[K     |███████████████████████▎        | 532kB 12.6MB/s eta 0:00:01\r\u001b[K     |███████████████████████▊        | 542kB 12.6MB/s eta 0:00:01\r\u001b[K     |████████████████████████▏       | 552kB 12.6MB/s eta 0:00:01\r\u001b[K     |████████████████████████▋       | 563kB 12.6MB/s eta 0:00:01\r\u001b[K     |█████████████████████████       | 573kB 12.6MB/s eta 0:00:01\r\u001b[K     |█████████████████████████▌      | 583kB 12.6MB/s eta 0:00:01\r\u001b[K     |██████████████████████████      | 593kB 12.6MB/s eta 0:00:01\r\u001b[K     |██████████████████████████▍     | 604kB 12.6MB/s eta 0:00:01\r\u001b[K     |██████████████████████████▉     | 614kB 12.6MB/s eta 0:00:01\r\u001b[K     |███████████████████████████▎    | 624kB 12.6MB/s eta 0:00:01\r\u001b[K     |███████████████████████████▊    | 634kB 12.6MB/s eta 0:00:01\r\u001b[K     |████████████████████████████▎   | 645kB 12.6MB/s eta 0:00:01\r\u001b[K     |████████████████████████████▊   | 655kB 12.6MB/s eta 0:00:01\r\u001b[K     |█████████████████████████████▏  | 665kB 12.6MB/s eta 0:00:01\r\u001b[K     |█████████████████████████████▋  | 675kB 12.6MB/s eta 0:00:01\r\u001b[K     |██████████████████████████████  | 686kB 12.6MB/s eta 0:00:01\r\u001b[K     |██████████████████████████████▌ | 696kB 12.6MB/s eta 0:00:01\r\u001b[K     |███████████████████████████████ | 706kB 12.6MB/s eta 0:00:01\r\u001b[K     |███████████████████████████████▍| 716kB 12.6MB/s eta 0:00:01\r\u001b[K     |███████████████████████████████▉| 727kB 12.6MB/s eta 0:00:01\r\u001b[K     |████████████████████████████████| 737kB 12.6MB/s \n",
            "\u001b[?25hRequirement already satisfied: PyYAML in /usr/local/lib/python3.6/dist-packages (from pyngrok) (3.13)\n",
            "Building wheels for collected packages: pyngrok\n",
            "  Building wheel for pyngrok (setup.py) ... \u001b[?25l\u001b[?25hdone\n",
            "  Created wheel for pyngrok: filename=pyngrok-5.0.2-cp36-none-any.whl size=18972 sha256=3f19d83839f7ad287ad2f48a929aa3408a474c6bbfe5245da900d2e6bf441a9c\n",
            "  Stored in directory: /root/.cache/pip/wheels/e1/94/52/c88ac157149e3506d377ae531697455b43ab49b76d3f2cc862\n",
            "Successfully built pyngrok\n",
            "Installing collected packages: pyngrok\n",
            "Successfully installed pyngrok-5.0.2\n"
          ],
          "name": "stdout"
        }
      ]
    },
    {
      "cell_type": "code",
      "metadata": {
        "id": "ThaZ2D4BAcYJ"
      },
      "source": [
        "# Deployment:\r\n",
        "# 1. Web Page\r\n",
        "# 2. Web App\r\n",
        "# 3. Mobile App"
      ],
      "execution_count": null,
      "outputs": []
    },
    {
      "cell_type": "code",
      "metadata": {
        "id": "o0CkT0ubBZqh"
      },
      "source": [
        "#%%writefile app.py\r\n",
        "#import streamlit as st\r\n",
        "#Preprocessing the images\r\n",
        "\r\n",
        "#import os\r\n",
        "#import matplotlib.pyplot as plt\r\n",
        "#import numpy as np\r\n",
        "#from skimage.io import imread\r\n",
        "#from skimage.transform import resize\r\n",
        "#import pickle\r\n",
        "#from PIL import Image\r\n",
        "#st.title('Image Classifier')\r\n",
        "#st.text('Upload the image')\r\n",
        "\r\n",
        "#model = pickle.load(open('img_model.p', 'rb'))\r\n",
        "#uploaded_file = st.file_uploader(\"Choose an image...\", type=\"jpg\")\r\n",
        "#if uploaded_file is not None:\r\n",
        "  #img = Image.open(uploaded_file)\r\n",
        "  #st.image(img, caption='Uploaded Image')"
      ],
      "execution_count": null,
      "outputs": []
    },
    {
      "cell_type": "code",
      "metadata": {
        "id": "n7wJu3D_CW0C"
      },
      "source": [
        "#!nohup streamlit run app.py &\r\n",
        "#url = ngrok.connect(port = '8501')\r\n",
        "#url"
      ],
      "execution_count": null,
      "outputs": []
    }
  ]
}